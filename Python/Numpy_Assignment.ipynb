{
 "cells": [
  {
   "cell_type": "markdown",
   "metadata": {
    "id": "E8845quhX22x"
   },
   "source": [
    "## Numpy Assignment | Shivam Negi\n"
   ]
  },
  {
   "cell_type": "code",
   "execution_count": 1,
   "metadata": {
    "colab": {
     "base_uri": "https://localhost:8080/",
     "height": 88
    },
    "id": "iI4grIsWXxy-",
    "outputId": "2bfa7006-56ed-4941-c086-c4ddb13d12ca"
   },
   "outputs": [
    {
     "name": "stdout",
     "output_type": "stream",
     "text": [
      "AlexandreTheophile Vandermonde Matrix: \n",
      "[[1 1 1]\n",
      " [4 2 1]\n",
      " [9 3 1]]\n"
     ]
    }
   ],
   "source": [
    "'''\n",
    "  %%%%%%%% PROGRAM 1 %%%%%%%%%\n",
    "    Write a function so that the columns of the output matrix are powers of the input vector.\n",
    "    The order of the powers is determined by the increasing boolean argument.\n",
    "    Specifically, when increasing is False, the i-th output column is the input vector raised element-wise to the power of N - i - 1.\n",
    "    HINT: Such a matrix with a geometric progression in each row is named for AlexandreTheophile Vandermonde.\n",
    "'''\n",
    "\n",
    "# import libraries\n",
    "import numpy as np\n",
    "\n",
    "def func_vander(x):\n",
    "  N = len(x)\n",
    "  return np.column_stack([x**(N-1-i) for i in range(N)])\n",
    "\n",
    "\n",
    "print('AlexandreTheophile Vandermonde Matrix: ')\n",
    "\n",
    "print(func_vander(np.array([1,2,3])))\n"
   ]
  },
  {
   "cell_type": "code",
   "execution_count": 3,
   "metadata": {
    "colab": {
     "base_uri": "https://localhost:8080/",
     "height": 36
    },
    "id": "-lREzln8Ihb6",
    "outputId": "f13481ca-5fbc-49d3-8963-38ad2930e05c"
   },
   "outputs": [
    {
     "data": {
      "text/plain": [
       "'Moving Average of Window 3:   [5.0, 4.666666666666667, 5.666666666666667, 6.666666666666667, 9.666666666666666, 28.666666666666668, 49.333333333333336, 72.66666666666667, 84.0, 93.33333333333333, 116.33333333333333]'"
      ]
     },
     "execution_count": 3,
     "metadata": {},
     "output_type": "execute_result"
    }
   ],
   "source": [
    "'''\n",
    "    %%%%%%% PROGRAM 2 %%%%%%%%%%\n",
    "\n",
    "      Write a function to find moving average in an array over a window:\n",
    "      Test it over [3, 5, 7, 2, 8, 10, 11, 65, 72, 81, 99, 100, 150] and window of 3.\n",
    "\n",
    "      For Example:\n",
    "\n",
    "          Given a sequence of n values x1, x2, ..., xn and a window size k>0, the k-th moving average of\n",
    "          the given sequence is defined as follows:\n",
    "          The moving average sequence has n-k+1 elements as shown below.\n",
    "          The moving averages with k=4 of a ten-value sequence (n=10) is shown below\n",
    "          \n",
    "          i 1 2 3 4 5 6 7 8 9 10\n",
    "          ===== == == == == == == == == == ==\n",
    "          Input 10 20 30 40 50 60 70 80 90 100\n",
    "          y1 25 = (10+20+30+40)/4\n",
    "          y2 35 = (20+30+40+50)/4\n",
    "          y3 45 = (30+40+50+60)/4\n",
    "          y4 55 = (40+50+60+70)/4\n",
    "          y5 65 = (50+60+70+80)/4\n",
    "          y6 75 = (60+70+80+90)/4\n",
    "          y7 85 = (70+80+90+100)/4\n",
    "          \n",
    "          Thus, the moving average sequence has n-k+1=10-4+1=7 values.\n",
    "\n",
    "'''\n",
    "\n",
    "\n",
    "\n",
    "def moving_average(arr, window):\n",
    "\n",
    "  return  \"Moving Average of Window \"+ str(window) +  \":   \" + str([float (sum(arr[i:i + window]) / window) for i in range(0, len(arr) - window + 1)])\n",
    "\n",
    "array = np.array([3, 5, 7, 2, 8, 10, 11, 65, 72, 81, 99, 100, 150])\n",
    "moving_average(array, 3)"
   ]
  }
 ],
 "metadata": {
  "colab": {
   "collapsed_sections": [],
   "name": "Numpy_Assignment.ipynb",
   "provenance": []
  },
  "kernelspec": {
   "display_name": "Python 3",
   "language": "python",
   "name": "python3"
  },
  "language_info": {
   "codemirror_mode": {
    "name": "ipython",
    "version": 3
   },
   "file_extension": ".py",
   "mimetype": "text/x-python",
   "name": "python",
   "nbconvert_exporter": "python",
   "pygments_lexer": "ipython3",
   "version": "3.7.4"
  }
 },
 "nbformat": 4,
 "nbformat_minor": 1
}
