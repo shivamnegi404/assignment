{
 "cells": [
  {
   "cell_type": "markdown",
   "metadata": {},
   "source": [
    "## Python Assignment 3 | Shivam Negi"
   ]
  },
  {
   "cell_type": "markdown",
   "metadata": {},
   "source": [
    "### Problem 1.1: "
   ]
  },
  {
   "cell_type": "code",
   "execution_count": 4,
   "metadata": {},
   "outputs": [
    {
     "name": "stdout",
     "output_type": "stream",
     "text": [
      "15\n"
     ]
    }
   ],
   "source": [
    "''' \n",
    "    1.1 Write a Python Program to implement your own myreduce() function which works exactly\n",
    "    like Python's built-in function reduce()\n",
    "\n",
    "'''\n",
    "\n",
    "def my_reduce(function, iterable):\n",
    "    \n",
    "    value = 0\n",
    "    for element in iterable:\n",
    "        value = function(value, element)\n",
    "    return value\n",
    "\n",
    "\n",
    "lis = [1,2,3,4,5]\n",
    "\n",
    "function = lambda a,b: a+b\n",
    "\n",
    "print(my_reduce(function, lis))\n",
    "\n"
   ]
  },
  {
   "cell_type": "markdown",
   "metadata": {},
   "source": [
    "### Problem 1.2: "
   ]
  },
  {
   "cell_type": "code",
   "execution_count": 5,
   "metadata": {},
   "outputs": [
    {
     "name": "stdout",
     "output_type": "stream",
     "text": [
      "[2, 4, 6, 8]\n"
     ]
    }
   ],
   "source": [
    "'''\n",
    "    1.2 Write a Python program to implement your own myfilter() function which works exactly\n",
    "    like Python's built-in function filter()\n",
    "\n",
    "'''\n",
    "\n",
    "\n",
    "\n",
    "'''\n",
    "   Custom Filter Function - filters a given input sequence(an iterable) of data based on a \n",
    "   function which generally returns either true or false for data elements of the input sequence.\n",
    "'''\n",
    "\n",
    "\n",
    "\n",
    "\n",
    "def my_filter(myfunction, iterable):                              \n",
    "    \n",
    "    if myfunction == None:\n",
    "        return [item for item in iterable if item]\n",
    "    \n",
    "    \n",
    " \n",
    "    return [item for item in iterable if myfunction(item)]\n",
    "    \n",
    "    \n",
    "   \n",
    "\n",
    "li = [1,2,3,4,5,6,7,8,9]                                            # Sequence\n",
    "\n",
    "\n",
    "def myfunction(item):                                               # Function\n",
    "    if item % 2 == 0:\n",
    "        return item\n",
    "\n",
    "\n",
    "print(my_filter(myfunction, li))\n"
   ]
  },
  {
   "cell_type": "code",
   "execution_count": null,
   "metadata": {},
   "outputs": [],
   "source": [
    "### Problem 2: "
   ]
  },
  {
   "cell_type": "code",
   "execution_count": 6,
   "metadata": {},
   "outputs": [
    {
     "name": "stdout",
     "output_type": "stream",
     "text": [
      "['A', 'C', 'A', 'D', 'G', 'I', 'L', 'D']\n",
      "['x', 'xx', 'xxx', 'xxxx', 'y', 'yy', 'yyy', 'yyyy', 'z', 'zz', 'zzz', 'zzzz']\n",
      "['x', 'y', 'z', 'xx', 'yy', 'zz', 'xxx', 'yyy', 'zzz', 'xxxx', 'yyyy', 'zzzz']\n",
      "[[2], [3], [4], [3], [4], [5], [4], [5], [6]]\n",
      "[[2, 3, 4, 5], [3, 4, 5, 6], [4, 5, 6, 7], [5, 6, 7, 8]]\n",
      "[(1, 1), (2, 1), (3, 1), (1, 2), (2, 2), (3, 2), (1, 3), (2, 3), (3, 3)]\n"
     ]
    }
   ],
   "source": [
    "'''\n",
    "    2. Implement List comprehensions to produce the following lists. Write List comprehensions to produce the following Lists\n",
    "\n",
    "    ['A', 'C', 'A', 'D', 'G', 'I', ’L’, ‘ D’]\n",
    "    \n",
    "    ['x', 'xx', 'xxx', 'xxxx', 'y', 'yy', 'yyy', 'yyyy', 'z', 'zz', 'zzz', 'zzzz']\n",
    "    \n",
    "    ['x', 'y', 'z', 'xx', 'yy', 'zz', 'xxx', 'yyy', 'zzz', 'xxxx', 'yyyy', 'zzzz']\n",
    "    \n",
    "    [[2], [3], [4], [3], [4], [5], [4], [5], [6]]\n",
    "     \n",
    "    [[2, 3, 4, 5], [3, 4, 5, 6], [4, 5, 6, 7], [5, 6, 7, 8]]\n",
    "    \n",
    "    [(1, 1), (2, 1), (3, 1), (1, 2), (2, 2), (3, 2), (1, 3), (2, 3), (3, 3)]\n",
    "\n",
    "\n",
    "'''\n",
    "\n",
    "print( [item for item in \"ACADGILD\"] )                               # ['A', 'C', 'A', 'D', 'G', 'I', ’L’, ‘ D’]\n",
    "\n",
    "print( [x*i for x in \"xyz\" for i in range(1, 5) ] )                  # ['x', 'xx', 'xxx', 'xxxx', 'y', 'yy', 'yyy', 'yyyy', 'z', 'zz', 'zzz', 'zzzz']\n",
    "\n",
    "print( [x*i for i in range(1, 5) for x in \"xyz\"] )                   # ['x', 'y', 'z', 'xx', 'yy', 'zz', 'xxx', 'yyy', 'zzz', 'xxxx', 'yyyy', 'zzzz']\n",
    "\n",
    "print( [ [x + y] for x in range(2, 5) for y in range(0,3) ] )        # [[2], [3], [4], [3], [4], [5], [4], [5], [6]]\n",
    "\n",
    "print( [ [x+y for x in range(2, 6) ]  for y in range(0, 4) ])        # [[2, 3, 4, 5], [3, 4, 5, 6], [4, 5, 6, 7], [5, 6, 7, 8]]\n",
    "\n",
    "print( [  (x, y)  for y in range(1, 4) for x in range(1, 4)  ] )     # [(1, 1), (2, 1), (3, 1), (1, 2), (2, 2), (3, 2), (1, 3), (2, 3), (3, 3)]\n",
    "\n",
    "\n"
   ]
  }
 ],
 "metadata": {
  "kernelspec": {
   "display_name": "Python 3.7.4 64-bit ('base': conda)",
   "language": "python",
   "name": "python37464bitbaseconda39999ce0990c4771a75f416d3637dab9"
  },
  "language_info": {
   "codemirror_mode": {
    "name": "ipython",
    "version": 3
   },
   "file_extension": ".py",
   "mimetype": "text/x-python",
   "name": "python",
   "nbconvert_exporter": "python",
   "pygments_lexer": "ipython3",
   "version": "3.7.4"
  }
 },
 "nbformat": 4,
 "nbformat_minor": 2
}
