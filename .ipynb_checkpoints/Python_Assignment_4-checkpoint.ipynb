{
 "cells": [
  {
   "cell_type": "markdown",
   "metadata": {},
   "source": [
    "1.1 Write a Python Program(with class concepts) to find the area of the triangle using the below\n",
    "formula.\n",
    "    area = (s*(s-a)*(s-b)*(s-c)) ** 0.5\n",
    "Function to take the length of the sides of triangle from user should be defined in the parent\n",
    "class and function to calculate the area should be defined in subclass.\n",
    "\n",
    "1.2 Write a function filter_long_words() that takes a list of words and an integer n and returns\n",
    "the list of words that are longer than n.\n",
    "\n",
    "2.1 Write a Python program using function concept that maps list of words into a list of integers\n",
    "representing the lengths of the corresponding words.\n",
    "Hint: If a list [ ab,cde,erty] is passed on to the python function output should come as [2,3,4]\n",
    "Here 2,3 and 4 are the lengths of the words in the list.\n",
    "\n",
    "2.2 Write a Python function which takes a character (i.e. a string of length 1) and returns True if\n",
    "it is a vowel, False otherwise."
   ]
  },
  {
   "cell_type": "markdown",
   "metadata": {},
   "source": [
    "### Python Assignment 4 | Shivam Negi"
   ]
  },
  {
   "cell_type": "markdown",
   "metadata": {},
   "source": [
    "### Problem 1.1: "
   ]
  },
  {
   "cell_type": "code",
   "execution_count": 15,
   "metadata": {},
   "outputs": [
    {
     "name": "stdout",
     "output_type": "stream",
     "text": [
      "Enter 1st Side: 3\n",
      "Enter 2nd Side: 3\n",
      "Enter 3nd Side: 3\n",
      "Area of Triangle:  3.897114317029974\n"
     ]
    }
   ],
   "source": [
    "'''\n",
    "    1.1 Write a Python Program(with class concepts) to find the area of the triangle using the below\n",
    "    formula.\n",
    "    area = (s*(s-a)*(s-b)*(s-c)) ** 0.5\n",
    "    Function to take the length of the sides of triangle from user should be defined in the parent\n",
    "    class and function to calculate the area should be defined in subclass.\n",
    "\n",
    "'''\n",
    "\n",
    "class Triangle:\n",
    "    a = int()\n",
    "    b = int()\n",
    "    c = int()\n",
    "        \n",
    "    def __init__(self, a, b , c):\n",
    "        \n",
    "        self.a = a\n",
    "        self.b = b\n",
    "        self.c = c\n",
    "        \n",
    "\n",
    "\n",
    "    def take_sides(self, a, b, c):\n",
    "        self.a = int(input(\"Enter 1st Side: \"))\n",
    "        self.b = int(input(\"Enter 2nd Side: \"))\n",
    "        self.c = int(input(\"Enter 3nd Side: \"))\n",
    "        \n",
    "        assert self.a + self.b > self.c and self.b +self.c > self.a and self.a + self.c > self.b , \"Enter Sides to make a possible triangle\"\n",
    "    \n",
    "            \n",
    "class Area(Triangle):\n",
    "  \n",
    "    s = int()\n",
    "    \n",
    "    def __init__(self, a, b, c):\n",
    "        \n",
    "        Triangle.__init__(self, a, b, c) \n",
    "        \n",
    "        Triangle.take_sides(self,a,b,c)\n",
    "    \n",
    "    \n",
    "    def area_of_traingle(self):\n",
    "        \n",
    "        s = (self.a + self.b + self.c) / 2\n",
    "        \n",
    "        return (s*(s-self.a)*(s-self.b)*(s-self.c)) ** 0.5\n",
    "\n",
    "\n",
    "\n",
    "a = Area(3,2,3)\n",
    "\n",
    "print(\"Area of Triangle: \",a.area_of_traingle())\n",
    "    \n",
    "    \n",
    "        "
   ]
  },
  {
   "cell_type": "markdown",
   "metadata": {},
   "source": [
    "### Problem 1.2: "
   ]
  },
  {
   "cell_type": "code",
   "execution_count": 2,
   "metadata": {},
   "outputs": [
    {
     "name": "stdout",
     "output_type": "stream",
     "text": [
      "\n",
      "Enter the Words: abc abcd abcde abcdef\n",
      "['abc', 'abcd', 'abcde', 'abcdef']\n",
      "Enter Length: 4\n",
      "['abcde', 'abcdef']\n"
     ]
    }
   ],
   "source": [
    "'''\n",
    "    1.2 Write a function filter_long_words() that takes a list of words\n",
    "    and an integer n and returns the list of words that are longer than n.\n",
    "'''\n",
    "\n",
    "\n",
    "def filter_long_words(list_of_words, n):\n",
    "    \n",
    "    return [ item for item in list_of_words if len(item) > n ]\n",
    "\n",
    "\n",
    "\n",
    "\n",
    "a = list(map(str,input(\"\\nEnter the Words: \").strip().split()))\n",
    "\n",
    "print(a)\n",
    "\n",
    "n = int(input(\"Enter Length: \"))\n",
    "\n",
    "print(filter_long_words(a, n))\n"
   ]
  },
  {
   "cell_type": "markdown",
   "metadata": {},
   "source": [
    "### Program 2.1"
   ]
  },
  {
   "cell_type": "code",
   "execution_count": 4,
   "metadata": {},
   "outputs": [
    {
     "name": "stdout",
     "output_type": "stream",
     "text": [
      "\n",
      "Enter the Words: a bv fdg tyui\n",
      "['a', 'bv', 'fdg', 'tyui']\n",
      "Length of Words:  [1, 2, 3, 4]\n"
     ]
    }
   ],
   "source": [
    "'''\n",
    "    2.1 Write a Python program using function concept that maps list of words into a list of integers \n",
    "        representing the lengths of the corresponding words. Hint: If a list [ ab,cde,erty] is passed on to the \n",
    "        python function output should come as [2,3,4] Here 2,3 and 4 are the lengths of the words in the list.\n",
    "'''\n",
    "\n",
    "\n",
    "def len_list(list_of_words):\n",
    "    \n",
    "    return ([len(item) for item in list_of_words])\n",
    "\n",
    "\n",
    "a = list(map(str,input(\"\\nEnter the Words: \").strip().split()))\n",
    "\n",
    "print(a)\n",
    "\n",
    "print(\"Length of Words: \", len_list(a))"
   ]
  },
  {
   "cell_type": "markdown",
   "metadata": {},
   "source": [
    "### Program 2.2"
   ]
  },
  {
   "cell_type": "code",
   "execution_count": 12,
   "metadata": {},
   "outputs": [
    {
     "name": "stdout",
     "output_type": "stream",
     "text": [
      "Enter a character: a\n",
      "True\n"
     ]
    }
   ],
   "source": [
    "'''\n",
    "    2.2 Write a Python function which takes a character\n",
    "    (i.e. a string of length 1) and returns True if it is a vowel, False otherwise.\n",
    "    \n",
    "'''\n",
    "\n",
    "\n",
    "def is_vowel(char):\n",
    "    \n",
    "    assert len(char) == 1, \"length of input should be 1.\"\n",
    "    \n",
    "    if char in 'AEIOUaeiou':\n",
    "        return True\n",
    "    \n",
    "    return False\n",
    "\n",
    "print(is_vowel(input(\"Enter a character: \")))"
   ]
  }
 ],
 "metadata": {
  "kernelspec": {
   "display_name": "Python 3.7.4 64-bit ('base': conda)",
   "language": "python",
   "name": "python37464bitbaseconda39999ce0990c4771a75f416d3637dab9"
  },
  "language_info": {
   "codemirror_mode": {
    "name": "ipython",
    "version": 3
   },
   "file_extension": ".py",
   "mimetype": "text/x-python",
   "name": "python",
   "nbconvert_exporter": "python",
   "pygments_lexer": "ipython3",
   "version": "3.7.4"
  }
 },
 "nbformat": 4,
 "nbformat_minor": 2
}
